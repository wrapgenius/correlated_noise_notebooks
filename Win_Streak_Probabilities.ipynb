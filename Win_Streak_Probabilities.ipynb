{
 "cells": [
  {
   "cell_type": "markdown",
   "metadata": {},
   "source": [
    "When a team goes on an extended winning streak, my gut tells me that something so unlikely is happening that it *proves* sports contests must be more than just weighted random number generators.  <br>\n",
    "But is that true?  In an attempt to answer that question, I work out the probabilities of winning streaks of different lengths given a winning percentage, and estimate that for each team given their (2018) records.  I compare those odds to the actual lengths of winning streaks for that season. <br>\n",
    "I admit, what I find is a little surprising."
   ]
  },
  {
   "cell_type": "markdown",
   "metadata": {},
   "source": [
    "## Python packages\n",
    "We start by importing some standard Python packages:"
   ]
  },
  {
   "cell_type": "code",
   "execution_count": 1,
   "metadata": {},
   "outputs": [],
   "source": [
    "from __future__ import division\n",
    "import os\n",
    "import numpy as np\n",
    "import pandas as pd\n",
    "import sys\n",
    "import matplotlib.pyplot as plt\n",
    "from matplotlib.pyplot import figure\n",
    "import seaborn\n",
    "\n",
    "%matplotlib inline\n",
    "plt.style.use('ggplot')\n",
    "\n",
    "sys.setrecursionlimit(20000)"
   ]
  },
  {
   "cell_type": "markdown",
   "metadata": {},
   "source": [
    "Next, since we want to know how unlikely are long winning streaks, we need to estimate what those odds are in theory, from simple statistics. <br>\n",
    "Here I'll use a recursive algorithm to estimate the probability of a streak of length winStreak during a season numGames long, for a team whose season-long record is winPercent. <br>\n",
    "Naturally, we expect the probability to increase for:\n",
    "- shorter streaks\n",
    "- better teams \n",
    "- longer seasons"
   ]
  },
  {
   "cell_type": "code",
   "execution_count": 10,
   "metadata": {},
   "outputs": [],
   "source": [
    "def probability_of_streak(numGames, winStreak, winPercent, saved = None):\n",
    "        \n",
    "        if saved == None: saved = {}\n",
    "        \n",
    "        ID = (numGames, winStreak, winPercent)\n",
    "        \n",
    "        if ID in saved: return saved[ID]\n",
    "        else: \n",
    "            if winStreak > numGames or numGames <=0:\n",
    "                result = 0\n",
    "            else:\n",
    "                result = winPercent**winStreak\n",
    "                for firstWin in range(1, winStreak+1):\n",
    "                    pr = probability_of_streak(numGames-firstWin, winStreak, winPercent, saved)\n",
    "                    result += (winPercent**(firstWin-1))*(1-winPercent)*pr\n",
    "\n",
    "        saved[ID] = result\n",
    "                               \n",
    "        return result"
   ]
  },
  {
   "cell_type": "markdown",
   "metadata": {},
   "source": [
    "Define a function splits the season into arrays representing winning streaks.  "
   ]
  },
  {
   "cell_type": "code",
   "execution_count": 3,
   "metadata": {},
   "outputs": [],
   "source": [
    "def consecutive(data, stepsize=0):\n",
    "    # define an empty array the length of a season and replace 0 with 1 for each Win.\n",
    "    sched = np.zeros(np.size(data))\n",
    "    sched[np.isin(data,'W')] = 1\n",
    "    # split into chunks of winning streaks\n",
    "    return np.split(sched, np.where(np.diff(sched) != stepsize)[0]+1)"
   ]
  },
  {
   "cell_type": "markdown",
   "metadata": {},
   "source": [
    "Define a function to group streaks by wins and losses."
   ]
  },
  {
   "cell_type": "code",
   "execution_count": 4,
   "metadata": {},
   "outputs": [],
   "source": [
    "def group_streaks(sched):\n",
    "    all_streaks = consecutive(sched)\n",
    "    longest_streak = np.size(max(all_streaks,key=len))\n",
    "    wins = np.zeros(longest_streak,dtype=np.int)\n",
    "    loss = np.zeros(longest_streak, dtype=np.int)\n",
    "    for i in all_streaks:\n",
    "        ind = np.size(i)-1\n",
    "        if i[0] == 1:\n",
    "            wins[ind] += 1\n",
    "        else:\n",
    "            loss[ind] += 1\n",
    "            \n",
    "    return [wins, loss]    "
   ]
  },
  {
   "cell_type": "code",
   "execution_count": 5,
   "metadata": {},
   "outputs": [],
   "source": [
    "def winning_percentage(streaks):\n",
    "    wp = {}\n",
    "    gp = {}\n",
    "    for team in streaks:\n",
    "        total_number_games = np.sum((np.arange(np.size(streaks[team][0]))+1) * streaks[team][0]) + np.sum((np.arange(np.size(streaks[team][1]))+1) * streaks[team][1])\n",
    "        gp[team] = total_number_games\n",
    "        wp[team] = np.sum((np.arange(np.size(streaks[team][0]))+1) * streaks[team][0]) / total_number_games\n",
    "    return wp,gp"
   ]
  },
  {
   "cell_type": "markdown",
   "metadata": {},
   "source": [
    "## Download Data\n",
    "The following files were grabbed from Baseball Reference. I store them in directories categorized by year, as well as Al and NL. "
   ]
  },
  {
   "cell_type": "code",
   "execution_count": 6,
   "metadata": {},
   "outputs": [],
   "source": [
    "path_files = '/data/baseball/Baseball-Reference/schedule_results/2018/'\n",
    "leagues    = ['AL','NL']"
   ]
  },
  {
   "cell_type": "markdown",
   "metadata": {},
   "source": [
    "We loop through each Leage and Team, storing Wins and Losses as W and L in a Pandas Dataframe.  Additionally, we convert walk-off wins and losses ('W-wo', 'L-wo') to 'W' and 'L'. <br>\n",
    "Lastly, we store streaks for each team in a streaks dictionary."
   ]
  },
  {
   "cell_type": "code",
   "execution_count": 7,
   "metadata": {},
   "outputs": [
    {
     "name": "stderr",
     "output_type": "stream",
     "text": [
      "/miniconda3/lib/python3.7/site-packages/ipykernel_launcher.py:9: SettingWithCopyWarning: \n",
      "A value is trying to be set on a copy of a slice from a DataFrame\n",
      "\n",
      "See the caveats in the documentation: http://pandas.pydata.org/pandas-docs/stable/indexing.html#indexing-view-versus-copy\n",
      "  if __name__ == '__main__':\n",
      "/miniconda3/lib/python3.7/site-packages/ipykernel_launcher.py:10: SettingWithCopyWarning: \n",
      "A value is trying to be set on a copy of a slice from a DataFrame\n",
      "\n",
      "See the caveats in the documentation: http://pandas.pydata.org/pandas-docs/stable/indexing.html#indexing-view-versus-copy\n",
      "  # Remove the CWD from sys.path while we load stuff.\n"
     ]
    }
   ],
   "source": [
    "streaks = {}\n",
    "for league in leagues:\n",
    "    path_csv = path_files + league + '/'\n",
    "    fnames = os.listdir(path_csv)\n",
    "    for itm in fnames:\n",
    "        team = itm.split('.')[0].split('_')[0]\n",
    "        pd.read_csv(path_csv+itm)\n",
    "        df = pd.read_csv(path_csv+itm)\n",
    "        df['W/L'][df['W/L'] == 'W-wo'] = 'W'\n",
    "        df['W/L'][df['W/L'] == 'L-wo'] = 'L'\n",
    "        a = df['W/L'].values\n",
    "        streaks[team] = group_streaks(a)"
   ]
  },
  {
   "cell_type": "markdown",
   "metadata": {},
   "source": [
    "Lets look win streaks in the streaks dictionary. Beginning with 2 game win streaks, which are the most frequent, we see a rapid drop off, although more than half have had one long streak (greater than 5)."
   ]
  },
  {
   "cell_type": "code",
   "execution_count": 8,
   "metadata": {},
   "outputs": [
    {
     "name": "stdout",
     "output_type": "stream",
     "text": [
      "Team [ 2  3  4  5  6  7  8  9 10 11 12 13 14 15 16]\n",
      "SEA [8 4 4 2 0 0 1]\n",
      "NYY [14  4  5  1  0  0  1  1]\n",
      "LAA [9 4 5 0 1 1]\n",
      "TEX [11  3  1  0  0  1]\n",
      "TBR [6 4 2 4 1 0 2]\n",
      "TOR [3 6 4 1]\n",
      "BOS [12  5  6  1  1  0  1  1  1]\n",
      "HOU [7 7 1 3 3 1 0 0 0 0 1]\n",
      "CLE [9 7 0 2 2 1]\n",
      "MIN [7 4 4 2 1 0 0]\n",
      "BAL [5 2 1 0 0 0 0 0]\n",
      "KCR [7 3 1 0 1 0 0 0 0]\n",
      "DET [7 2 3 1 0 0 0 0 0 0]\n",
      "CWS [10  4  2  0  0  0  0]\n",
      "OAK [10  3  5  1  4]\n",
      "MIL [11  9  2  1  0  0  2]\n",
      "NYM [13  3  2  0  0  0  0  1]\n",
      "CHC [14  4  3  2  1  1]\n",
      "MIA [12  3  2  0  0]\n",
      "PHI [10  4  2  1  2  0  0  0]\n",
      "WAS [15  8  3  1  1  1]\n",
      "CIN [10  4  0  0  1  1  0]\n",
      "ATL [11  5  2  3  2]\n",
      "PIT [8 3 1 4 0 0 0 0 0 1]\n",
      "ARI [10 10  2  1  0  0]\n",
      "SDP [9 5 1 0 0 0]\n",
      "SFG [8 6 4 1 0 0 0 0 0 0]\n",
      "STL [14  5  2  2  0  0  1]\n",
      "LAD [9 8 7 2 0]\n",
      "COL [7 5 4 2 1 1 1]\n"
     ]
    }
   ],
   "source": [
    "print('Team',str(np.arange(15)+2))\n",
    "for t in streaks:\n",
    "    print(t,str(streaks[t][0][1:]))"
   ]
  },
  {
   "cell_type": "markdown",
   "metadata": {},
   "source": [
    "Looks like a lot of long winning streaks.  But how does that compare to what the Binomial distribution predicts? <br>\n",
    "To answer that, we count how many teams have had streaks greater than N, from N = 1 to 15, i"
   ]
  },
  {
   "cell_type": "code",
   "execution_count": 11,
   "metadata": {},
   "outputs": [],
   "source": [
    "streak_size = 15\n",
    "win_percent, games_played = winning_percentage(streaks)\n",
    "real_win_streaks  = np.zeros(streak_size)\n",
    "cum_win_streaks  = np.zeros(streak_size)\n",
    "win_predict = np.zeros(streak_size)\n",
    "for t in streaks:\n",
    "    x = (np.arange(np.size(streaks[t][0])))\n",
    "    cumulative_wins = np.cumsum(streaks[t][0][::-1])[::-1] \n",
    "    ind_non_zero = np.where(streaks[t][0] > 0)\n",
    "    cind_non_zero = np.where(cumulative_wins > 0)\n",
    "    real_win_streaks[x[ind_non_zero]] += 1\n",
    "    cum_win_streaks[x[cind_non_zero]] += 1\n",
    "    for p in np.arange(streak_size):\n",
    "        win_predict[p] += probability_of_streak(games_played[t], p+1, win_percent[t])"
   ]
  },
  {
   "cell_type": "markdown",
   "metadata": {},
   "source": [
    "Plotting it, we find reality looks a lot like theory. However, we also find slight excess of teams with winning streaks of 5 or fewer, and much larger deficit of teams with winning streaks greater than 5.  In fact no team has a winning streak of more than 12, where in theory there should have been closer to 3.  <br>\n",
    "If anything, this contradicts my intuition that streaks are special --- the lack of streaks is the actual surprise."
   ]
  },
  {
   "cell_type": "code",
   "execution_count": 12,
   "metadata": {},
   "outputs": [
    {
     "data": {
      "image/png": "[encoded data removed]",
      "text/plain": [
       "<Figure size 640x480 with 1 Axes>"
      ]
     },
     "metadata": {},
     "output_type": "display_data"
    }
   ],
   "source": [
    "figure(num=None, figsize=(8, 6), dpi=80, facecolor='w', edgecolor='k')\n",
    "plt.step(np.arange(streak_size)+1,cum_win_streaks,linestyle = '--',label='Actual')\n",
    "plt.step(np.arange(streak_size)+1,np.round(win_predict),label='Theory')\n",
    "plt.legend()\n",
    "plt.title('Number of Teams with Winning Streaks of Length W')\n",
    "plt.xlabel('W - Winning Streak Length')\n",
    "plt.ylabel('Number of Teams')\n",
    "plt.show()"
   ]
  },
  {
   "cell_type": "markdown",
   "metadata": {},
   "source": [
    "We can do the same for losing streaks. "
   ]
  },
  {
   "cell_type": "code",
   "execution_count": 13,
   "metadata": {},
   "outputs": [],
   "source": [
    "streak_size = 15\n",
    "lose_percent, games_played = winning_percentage(streaks)\n",
    "real_lose_streaks  = np.zeros(streak_size)\n",
    "cum_lose_streaks  = np.zeros(streak_size)\n",
    "lose_predict = np.zeros(streak_size)\n",
    "for t in streaks:\n",
    "    x = (np.arange(np.size(streaks[t][1])))\n",
    "    cumulative_losses = np.cumsum(streaks[t][1][::-1])[::-1] \n",
    "    ind_non_zero = np.where(streaks[t][1] > 0)\n",
    "    cind_non_zero = np.where(cumulative_losses > 0)\n",
    "    real_lose_streaks[x[ind_non_zero]] += 1\n",
    "    cum_lose_streaks[x[cind_non_zero]] += 1\n",
    "    for p in np.arange(streak_size):\n",
    "        lose_predict[p] += probability_of_streak(games_played[t], p+1, lose_percent[t])"
   ]
  },
  {
   "cell_type": "markdown",
   "metadata": {},
   "source": [
    "At last the human element presents itself. There are much fewer teams with losing streaks greater than 4 and above than predicted by the biniomal distribution alone.  Lose a few games and changes occur; this may be evidence that they work!"
   ]
  },
  {
   "cell_type": "code",
   "execution_count": 14,
   "metadata": {},
   "outputs": [
    {
     "data": {
      "image/png": "[encoded data removed]",
      "text/plain": [
       "<Figure size 640x480 with 1 Axes>"
      ]
     },
     "metadata": {},
     "output_type": "display_data"
    }
   ],
   "source": [
    "figure(num=None, figsize=(8, 6), dpi=80, facecolor='w', edgecolor='k')\n",
    "plt.step(np.arange(streak_size)+1,cum_lose_streaks,linestyle = '--',label='Actual')\n",
    "plt.step(np.arange(streak_size)+1,lose_predict,label='Theory')\n",
    "plt.legend()\n",
    "plt.title('Number of Teams with Losing Streaks of Length L')\n",
    "plt.xlabel('L - Losing Streak Length')\n",
    "plt.ylabel('Number of Teams')\n",
    "plt.show()"
   ]
  },
  {
   "cell_type": "code",
   "execution_count": null,
   "metadata": {},
   "outputs": [],
   "source": []
  }
 ],
 "metadata": {
  "kernelspec": {
   "display_name": "Python 3",
   "language": "python",
   "name": "python3"
  },
  "language_info": {
   "codemirror_mode": {
    "name": "ipython",
    "version": 3
   },
   "file_extension": ".py",
   "mimetype": "text/x-python",
   "name": "python",
   "nbconvert_exporter": "python",
   "pygments_lexer": "ipython3",
   "version": "3.7.1"
  }
 },
 "nbformat": 4,
 "nbformat_minor": 4
}
